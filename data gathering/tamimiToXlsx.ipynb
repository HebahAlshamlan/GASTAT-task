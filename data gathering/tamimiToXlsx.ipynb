{
 "cells": [
  {
   "cell_type": "code",
   "execution_count": 15,
   "metadata": {},
   "outputs": [
    {
     "output_type": "execute_result",
     "data": {
      "text/plain": "{'barcodes': None,\n 'brand': None,\n 'bulkOrderThreshold': 0,\n 'categoryDataMapping': [None],\n 'clientItemId': '145158_1',\n 'createdAt': '2019-05-04T10:59:38+03:00',\n 'description': None,\n 'handlingDays': 0,\n 'hasVariants': 1,\n 'id': 1784,\n 'images': None,\n 'imagesExtra': None,\n 'item': None,\n 'languages': '',\n 'metaData': {'merchandise': '145158_1',\n  'pointsCalc': '1',\n  'sourceOfSupply': 'DSD'},\n 'name': 'Squash Butternut',\n 'offers': None,\n 'organizationId': '2',\n 'primaryCategory': {'clientId': 'TM1.1.2',\n  'description': None,\n  'id': 5,\n  'image': None,\n  'languages': '',\n  'name': 'VEGETABLES',\n  'parentCategory': {'clientId': 'TM1.1',\n   'description': None,\n   'id': 3,\n   'image': 'https://storage.googleapis.com/tm-zopsmart-uploads/originals/20190614/TM1.1FRUITS%26VEGETABLES-20190614-081850.png',\n   'languages': '',\n   'name': 'FRUITS & VEGETABLES',\n   'parentCategory': {'clientId': 'TM1',\n    'description': None,\n    'id': 2,\n    'image': 'https://storage.googleapis.com/tm-zopsmart-uploads/originals/20190612/TM1.1FRUITS%26VEGETABLES-20190612-034310.png',\n    'languages': '',\n    'name': 'FRESH',\n    'parentCategory': None,\n    'productsCount': 1045,\n    'slug': 'fresh',\n    'status': 'ENABLED'},\n   'productsCount': 141,\n   'slug': 'fruits--vegetables',\n   'status': 'ENABLED'},\n  'productsCount': 71,\n  'slug': 'vegetables',\n  'status': 'ENABLED'},\n 'slug': 'squash-butternut',\n 'soldByWeight': 1,\n 'status': 'ENABLED',\n 'stockOverride': {'maxPurchasableStock': None,\n  'stockBuffer': None,\n  'storeBulkOrderThreshold': None},\n 'storeSpecificData': None,\n 'variants': [{'barcodes': ['8271'],\n   'clientItemId': '145158_500_KG500',\n   'fullName': 'Squash Butternut - 500 g',\n   'id': 21776,\n   'images': ['https://storage.googleapis.com/tm-zopsmart-uploads/320/20200106/145158_1-20200106-060857.png'],\n   'imagesExtra': {'s320': ['https://storage.googleapis.com/tm-zopsmart-uploads/320/20200106/145158_1-20200106-060857.png']},\n   'item': {'id': 21776},\n   'languages': '',\n   'metaData': None,\n   'name': '500 g',\n   'offers': None,\n   'productId': 1784,\n   'status': 'ENABLED',\n   'stockOverride': {'maxPurchasableStock': None,\n    'stockBuffer': None,\n    'storeBulkOrderThreshold': None},\n   'storeSpecificData': [{'currency': {'id': 105,\n      'name': 'SAR',\n      'symbol': 'SAR'},\n     'discount': '0',\n     'location': {'aisle': '', 'position': '', 'rack': 'Pr'},\n     'mrp': '3.5',\n     'status': 'ENABLED',\n     'stock': 132,\n     'store': {'address': '7210 Al Amir Turki St. Cornish Road, Al Khobar Al Shamalia\\n',\n      'businessHours': None,\n      'clientId': 'V101',\n      'hasClickCollect': True,\n      'hasDeliveryHub': True,\n      'hasPicking': True,\n      'hasSelfCheckout': False,\n      'id': 4,\n      'languages': '',\n      'latitude': 26.289403,\n      'longitude': 50.219084,\n      'metaData': None,\n      'name': 'Al Khobar, Corniche Road V101',\n      'pickingStoreId': None,\n      'status': 'ENABLED'},\n     'storeId': 4,\n     'tax': [{'VAT': 0.33}],\n     'unit': 500,\n     'unlimitedStock': False}]},\n  {'barcodes': ['8271'],\n   'clientItemId': '145158_1000_KG1000',\n   'fullName': 'Squash Butternut - 1.0 kg',\n   'id': 21777,\n   'images': ['https://storage.googleapis.com/tm-zopsmart-uploads/320/20200106/145158_1-20200106-060857.png'],\n   'imagesExtra': {'s320': ['https://storage.googleapis.com/tm-zopsmart-uploads/320/20200106/145158_1-20200106-060857.png']},\n   'item': {'id': 21777},\n   'languages': '',\n   'metaData': None,\n   'name': '1.0 kg',\n   'offers': None,\n   'productId': 1784,\n   'status': 'ENABLED',\n   'stockOverride': {'maxPurchasableStock': None,\n    'stockBuffer': None,\n    'storeBulkOrderThreshold': None},\n   'storeSpecificData': [{'currency': {'id': 105,\n      'name': 'SAR',\n      'symbol': 'SAR'},\n     'discount': '0',\n     'location': {'aisle': '', 'position': '', 'rack': 'Pr'},\n     'mrp': '6.95',\n     'status': 'ENABLED',\n     'stock': 66,\n     'store': {'address': '7210 Al Amir Turki St. Cornish Road, Al Khobar Al Shamalia\\n',\n      'businessHours': None,\n      'clientId': 'V101',\n      'hasClickCollect': True,\n      'hasDeliveryHub': True,\n      'hasPicking': True,\n      'hasSelfCheckout': False,\n      'id': 4,\n      'languages': '',\n      'latitude': 26.289403,\n      'longitude': 50.219084,\n      'metaData': None,\n      'name': 'Al Khobar, Corniche Road V101',\n      'pickingStoreId': None,\n      'status': 'ENABLED'},\n     'storeId': 4,\n     'tax': [{'VAT': 0.33}],\n     'unit': 1000,\n     'unlimitedStock': False}]},\n  {'barcodes': ['8271'],\n   'clientItemId': '145158_1500_KG1500',\n   'fullName': 'Squash Butternut - 1.5 kg',\n   'id': 21778,\n   'images': ['https://storage.googleapis.com/tm-zopsmart-uploads/320/20200106/145158_1-20200106-060857.png'],\n   'imagesExtra': {'s320': ['https://storage.googleapis.com/tm-zopsmart-uploads/320/20200106/145158_1-20200106-060857.png']},\n   'item': {'id': 21778},\n   'languages': '',\n   'metaData': None,\n   'name': '1.5 kg',\n   'offers': None,\n   'productId': 1784,\n   'status': 'ENABLED',\n   'stockOverride': {'maxPurchasableStock': None,\n    'stockBuffer': None,\n    'storeBulkOrderThreshold': None},\n   'storeSpecificData': [{'currency': {'id': 105,\n      'name': 'SAR',\n      'symbol': 'SAR'},\n     'discount': '0',\n     'location': {'aisle': '', 'position': '', 'rack': 'Pr'},\n     'mrp': '10.450000000000001',\n     'status': 'ENABLED',\n     'stock': 44,\n     'store': {'address': '7210 Al Amir Turki St. Cornish Road, Al Khobar Al Shamalia\\n',\n      'businessHours': None,\n      'clientId': 'V101',\n      'hasClickCollect': True,\n      'hasDeliveryHub': True,\n      'hasPicking': True,\n      'hasSelfCheckout': False,\n      'id': 4,\n      'languages': '',\n      'latitude': 26.289403,\n      'longitude': 50.219084,\n      'metaData': None,\n      'name': 'Al Khobar, Corniche Road V101',\n      'pickingStoreId': None,\n      'status': 'ENABLED'},\n     'storeId': 4,\n     'tax': [{'VAT': 0.33}],\n     'unit': 1500,\n     'unlimitedStock': False}]},\n  {'barcodes': ['8271'],\n   'clientItemId': '145158_2000_KG2000',\n   'fullName': 'Squash Butternut - 2.0 kg',\n   'id': 21779,\n   'images': ['https://storage.googleapis.com/tm-zopsmart-uploads/320/20200106/145158_1-20200106-060857.png'],\n   'imagesExtra': {'s320': ['https://storage.googleapis.com/tm-zopsmart-uploads/320/20200106/145158_1-20200106-060857.png']},\n   'item': {'id': 21779},\n   'languages': '',\n   'metaData': None,\n   'name': '2.0 kg',\n   'offers': None,\n   'productId': 1784,\n   'status': 'ENABLED',\n   'stockOverride': {'maxPurchasableStock': None,\n    'stockBuffer': None,\n    'storeBulkOrderThreshold': None},\n   'storeSpecificData': [{'currency': {'id': 105,\n      'name': 'SAR',\n      'symbol': 'SAR'},\n     'discount': '0',\n     'location': {'aisle': '', 'position': '', 'rack': 'Pr'},\n     'mrp': '13.9',\n     'status': 'ENABLED',\n     'stock': 33,\n     'store': {'address': '7210 Al Amir Turki St. Cornish Road, Al Khobar Al Shamalia\\n',\n      'businessHours': None,\n      'clientId': 'V101',\n      'hasClickCollect': True,\n      'hasDeliveryHub': True,\n      'hasPicking': True,\n      'hasSelfCheckout': False,\n      'id': 4,\n      'languages': '',\n      'latitude': 26.289403,\n      'longitude': 50.219084,\n      'metaData': None,\n      'name': 'Al Khobar, Corniche Road V101',\n      'pickingStoreId': None,\n      'status': 'ENABLED'},\n     'storeId': 4,\n     'tax': [{'VAT': 0.33}],\n     'unit': 2000,\n     'unlimitedStock': False}]}]}"
     },
     "metadata": {},
     "execution_count": 15
    }
   ],
   "source": [
    "import json\n",
    "import pandas as pd\n",
    "\n",
    "file = open(\"tamimi.json\")\n",
    "fileLoaded = json.load(file)\n",
    "\n",
    "def superCat(cat):\n",
    "    if 'parentCategory' in cat and type(cat['parentCategory']) is dict:\n",
    "        return superCat(cat['parentCategory'])\n",
    "    else:\n",
    "        return cat['name']\n",
    "\n",
    "fileLoaded[0]"
   ]
  },
  {
   "cell_type": "code",
   "execution_count": 18,
   "metadata": {},
   "outputs": [
    {
     "output_type": "error",
     "ename": "ValueError",
     "evalue": "arrays must all be same length",
     "traceback": [
      "\u001b[1;31m---------------------------------------------------------------------------\u001b[0m",
      "\u001b[1;31mValueError\u001b[0m                                Traceback (most recent call last)",
      "\u001b[1;32m<ipython-input-18-73f28cda3192>\u001b[0m in \u001b[0;36m<module>\u001b[1;34m\u001b[0m\n\u001b[0;32m     17\u001b[0m             \u001b[0mproducts\u001b[0m\u001b[1;33m[\u001b[0m\u001b[1;34m'VAT'\u001b[0m\u001b[1;33m]\u001b[0m\u001b[1;33m.\u001b[0m\u001b[0mappend\u001b[0m\u001b[1;33m(\u001b[0m\u001b[0mvariant\u001b[0m\u001b[1;33m[\u001b[0m\u001b[1;34m'storeSpecificData'\u001b[0m\u001b[1;33m]\u001b[0m\u001b[1;33m[\u001b[0m\u001b[1;36m0\u001b[0m\u001b[1;33m]\u001b[0m\u001b[1;33m[\u001b[0m\u001b[1;34m'tax'\u001b[0m\u001b[1;33m]\u001b[0m\u001b[1;33m[\u001b[0m\u001b[1;36m0\u001b[0m\u001b[1;33m]\u001b[0m\u001b[1;33m[\u001b[0m\u001b[1;34m'VAT'\u001b[0m\u001b[1;33m]\u001b[0m\u001b[1;33m)\u001b[0m\u001b[1;33m\u001b[0m\u001b[1;33m\u001b[0m\u001b[0m\n\u001b[0;32m     18\u001b[0m \u001b[1;33m\u001b[0m\u001b[0m\n\u001b[1;32m---> 19\u001b[1;33m \u001b[0mpd\u001b[0m\u001b[1;33m.\u001b[0m\u001b[0mDataFrame\u001b[0m\u001b[1;33m.\u001b[0m\u001b[0mfrom_dict\u001b[0m\u001b[1;33m(\u001b[0m\u001b[0mproducts\u001b[0m\u001b[1;33m)\u001b[0m\u001b[1;33m.\u001b[0m\u001b[0mto_excel\u001b[0m\u001b[1;33m(\u001b[0m\u001b[1;34mr'./tamimi.xlsx'\u001b[0m\u001b[1;33m,\u001b[0m \u001b[0mindex\u001b[0m \u001b[1;33m=\u001b[0m \u001b[1;32mFalse\u001b[0m\u001b[1;33m,\u001b[0m \u001b[0mheader\u001b[0m\u001b[1;33m=\u001b[0m\u001b[1;32mTrue\u001b[0m\u001b[1;33m)\u001b[0m\u001b[1;33m\u001b[0m\u001b[1;33m\u001b[0m\u001b[0m\n\u001b[0m\u001b[0;32m     20\u001b[0m \u001b[1;33m\u001b[0m\u001b[0m\n",
      "\u001b[1;32m~\\anaconda3\\lib\\site-packages\\pandas\\core\\frame.py\u001b[0m in \u001b[0;36mfrom_dict\u001b[1;34m(cls, data, orient, dtype, columns)\u001b[0m\n\u001b[0;32m   1245\u001b[0m             \u001b[1;32mraise\u001b[0m \u001b[0mValueError\u001b[0m\u001b[1;33m(\u001b[0m\u001b[1;34m\"only recognize index or columns for orient\"\u001b[0m\u001b[1;33m)\u001b[0m\u001b[1;33m\u001b[0m\u001b[1;33m\u001b[0m\u001b[0m\n\u001b[0;32m   1246\u001b[0m \u001b[1;33m\u001b[0m\u001b[0m\n\u001b[1;32m-> 1247\u001b[1;33m         \u001b[1;32mreturn\u001b[0m \u001b[0mcls\u001b[0m\u001b[1;33m(\u001b[0m\u001b[0mdata\u001b[0m\u001b[1;33m,\u001b[0m \u001b[0mindex\u001b[0m\u001b[1;33m=\u001b[0m\u001b[0mindex\u001b[0m\u001b[1;33m,\u001b[0m \u001b[0mcolumns\u001b[0m\u001b[1;33m=\u001b[0m\u001b[0mcolumns\u001b[0m\u001b[1;33m,\u001b[0m \u001b[0mdtype\u001b[0m\u001b[1;33m=\u001b[0m\u001b[0mdtype\u001b[0m\u001b[1;33m)\u001b[0m\u001b[1;33m\u001b[0m\u001b[1;33m\u001b[0m\u001b[0m\n\u001b[0m\u001b[0;32m   1248\u001b[0m \u001b[1;33m\u001b[0m\u001b[0m\n\u001b[0;32m   1249\u001b[0m     \u001b[1;32mdef\u001b[0m \u001b[0mto_numpy\u001b[0m\u001b[1;33m(\u001b[0m\u001b[0mself\u001b[0m\u001b[1;33m,\u001b[0m \u001b[0mdtype\u001b[0m\u001b[1;33m=\u001b[0m\u001b[1;32mNone\u001b[0m\u001b[1;33m,\u001b[0m \u001b[0mcopy\u001b[0m\u001b[1;33m=\u001b[0m\u001b[1;32mFalse\u001b[0m\u001b[1;33m)\u001b[0m \u001b[1;33m->\u001b[0m \u001b[0mnp\u001b[0m\u001b[1;33m.\u001b[0m\u001b[0mndarray\u001b[0m\u001b[1;33m:\u001b[0m\u001b[1;33m\u001b[0m\u001b[1;33m\u001b[0m\u001b[0m\n",
      "\u001b[1;32m~\\anaconda3\\lib\\site-packages\\pandas\\core\\frame.py\u001b[0m in \u001b[0;36m__init__\u001b[1;34m(self, data, index, columns, dtype, copy)\u001b[0m\n\u001b[0;32m    433\u001b[0m             )\n\u001b[0;32m    434\u001b[0m         \u001b[1;32melif\u001b[0m \u001b[0misinstance\u001b[0m\u001b[1;33m(\u001b[0m\u001b[0mdata\u001b[0m\u001b[1;33m,\u001b[0m \u001b[0mdict\u001b[0m\u001b[1;33m)\u001b[0m\u001b[1;33m:\u001b[0m\u001b[1;33m\u001b[0m\u001b[1;33m\u001b[0m\u001b[0m\n\u001b[1;32m--> 435\u001b[1;33m             \u001b[0mmgr\u001b[0m \u001b[1;33m=\u001b[0m \u001b[0minit_dict\u001b[0m\u001b[1;33m(\u001b[0m\u001b[0mdata\u001b[0m\u001b[1;33m,\u001b[0m \u001b[0mindex\u001b[0m\u001b[1;33m,\u001b[0m \u001b[0mcolumns\u001b[0m\u001b[1;33m,\u001b[0m \u001b[0mdtype\u001b[0m\u001b[1;33m=\u001b[0m\u001b[0mdtype\u001b[0m\u001b[1;33m)\u001b[0m\u001b[1;33m\u001b[0m\u001b[1;33m\u001b[0m\u001b[0m\n\u001b[0m\u001b[0;32m    436\u001b[0m         \u001b[1;32melif\u001b[0m \u001b[0misinstance\u001b[0m\u001b[1;33m(\u001b[0m\u001b[0mdata\u001b[0m\u001b[1;33m,\u001b[0m \u001b[0mma\u001b[0m\u001b[1;33m.\u001b[0m\u001b[0mMaskedArray\u001b[0m\u001b[1;33m)\u001b[0m\u001b[1;33m:\u001b[0m\u001b[1;33m\u001b[0m\u001b[1;33m\u001b[0m\u001b[0m\n\u001b[0;32m    437\u001b[0m             \u001b[1;32mimport\u001b[0m \u001b[0mnumpy\u001b[0m\u001b[1;33m.\u001b[0m\u001b[0mma\u001b[0m\u001b[1;33m.\u001b[0m\u001b[0mmrecords\u001b[0m \u001b[1;32mas\u001b[0m \u001b[0mmrecords\u001b[0m\u001b[1;33m\u001b[0m\u001b[1;33m\u001b[0m\u001b[0m\n",
      "\u001b[1;32m~\\anaconda3\\lib\\site-packages\\pandas\\core\\internals\\construction.py\u001b[0m in \u001b[0;36minit_dict\u001b[1;34m(data, index, columns, dtype)\u001b[0m\n\u001b[0;32m    252\u001b[0m             \u001b[0marr\u001b[0m \u001b[1;32mif\u001b[0m \u001b[1;32mnot\u001b[0m \u001b[0mis_datetime64tz_dtype\u001b[0m\u001b[1;33m(\u001b[0m\u001b[0marr\u001b[0m\u001b[1;33m)\u001b[0m \u001b[1;32melse\u001b[0m \u001b[0marr\u001b[0m\u001b[1;33m.\u001b[0m\u001b[0mcopy\u001b[0m\u001b[1;33m(\u001b[0m\u001b[1;33m)\u001b[0m \u001b[1;32mfor\u001b[0m \u001b[0marr\u001b[0m \u001b[1;32min\u001b[0m \u001b[0marrays\u001b[0m\u001b[1;33m\u001b[0m\u001b[1;33m\u001b[0m\u001b[0m\n\u001b[0;32m    253\u001b[0m         ]\n\u001b[1;32m--> 254\u001b[1;33m     \u001b[1;32mreturn\u001b[0m \u001b[0marrays_to_mgr\u001b[0m\u001b[1;33m(\u001b[0m\u001b[0marrays\u001b[0m\u001b[1;33m,\u001b[0m \u001b[0mdata_names\u001b[0m\u001b[1;33m,\u001b[0m \u001b[0mindex\u001b[0m\u001b[1;33m,\u001b[0m \u001b[0mcolumns\u001b[0m\u001b[1;33m,\u001b[0m \u001b[0mdtype\u001b[0m\u001b[1;33m=\u001b[0m\u001b[0mdtype\u001b[0m\u001b[1;33m)\u001b[0m\u001b[1;33m\u001b[0m\u001b[1;33m\u001b[0m\u001b[0m\n\u001b[0m\u001b[0;32m    255\u001b[0m \u001b[1;33m\u001b[0m\u001b[0m\n\u001b[0;32m    256\u001b[0m \u001b[1;33m\u001b[0m\u001b[0m\n",
      "\u001b[1;32m~\\anaconda3\\lib\\site-packages\\pandas\\core\\internals\\construction.py\u001b[0m in \u001b[0;36marrays_to_mgr\u001b[1;34m(arrays, arr_names, index, columns, dtype)\u001b[0m\n\u001b[0;32m     62\u001b[0m     \u001b[1;31m# figure out the index, if necessary\u001b[0m\u001b[1;33m\u001b[0m\u001b[1;33m\u001b[0m\u001b[1;33m\u001b[0m\u001b[0m\n\u001b[0;32m     63\u001b[0m     \u001b[1;32mif\u001b[0m \u001b[0mindex\u001b[0m \u001b[1;32mis\u001b[0m \u001b[1;32mNone\u001b[0m\u001b[1;33m:\u001b[0m\u001b[1;33m\u001b[0m\u001b[1;33m\u001b[0m\u001b[0m\n\u001b[1;32m---> 64\u001b[1;33m         \u001b[0mindex\u001b[0m \u001b[1;33m=\u001b[0m \u001b[0mextract_index\u001b[0m\u001b[1;33m(\u001b[0m\u001b[0marrays\u001b[0m\u001b[1;33m)\u001b[0m\u001b[1;33m\u001b[0m\u001b[1;33m\u001b[0m\u001b[0m\n\u001b[0m\u001b[0;32m     65\u001b[0m     \u001b[1;32melse\u001b[0m\u001b[1;33m:\u001b[0m\u001b[1;33m\u001b[0m\u001b[1;33m\u001b[0m\u001b[0m\n\u001b[0;32m     66\u001b[0m         \u001b[0mindex\u001b[0m \u001b[1;33m=\u001b[0m \u001b[0mensure_index\u001b[0m\u001b[1;33m(\u001b[0m\u001b[0mindex\u001b[0m\u001b[1;33m)\u001b[0m\u001b[1;33m\u001b[0m\u001b[1;33m\u001b[0m\u001b[0m\n",
      "\u001b[1;32m~\\anaconda3\\lib\\site-packages\\pandas\\core\\internals\\construction.py\u001b[0m in \u001b[0;36mextract_index\u001b[1;34m(data)\u001b[0m\n\u001b[0;32m    363\u001b[0m             \u001b[0mlengths\u001b[0m \u001b[1;33m=\u001b[0m \u001b[0mlist\u001b[0m\u001b[1;33m(\u001b[0m\u001b[0mset\u001b[0m\u001b[1;33m(\u001b[0m\u001b[0mraw_lengths\u001b[0m\u001b[1;33m)\u001b[0m\u001b[1;33m)\u001b[0m\u001b[1;33m\u001b[0m\u001b[1;33m\u001b[0m\u001b[0m\n\u001b[0;32m    364\u001b[0m             \u001b[1;32mif\u001b[0m \u001b[0mlen\u001b[0m\u001b[1;33m(\u001b[0m\u001b[0mlengths\u001b[0m\u001b[1;33m)\u001b[0m \u001b[1;33m>\u001b[0m \u001b[1;36m1\u001b[0m\u001b[1;33m:\u001b[0m\u001b[1;33m\u001b[0m\u001b[1;33m\u001b[0m\u001b[0m\n\u001b[1;32m--> 365\u001b[1;33m                 \u001b[1;32mraise\u001b[0m \u001b[0mValueError\u001b[0m\u001b[1;33m(\u001b[0m\u001b[1;34m\"arrays must all be same length\"\u001b[0m\u001b[1;33m)\u001b[0m\u001b[1;33m\u001b[0m\u001b[1;33m\u001b[0m\u001b[0m\n\u001b[0m\u001b[0;32m    366\u001b[0m \u001b[1;33m\u001b[0m\u001b[0m\n\u001b[0;32m    367\u001b[0m             \u001b[1;32mif\u001b[0m \u001b[0mhave_dicts\u001b[0m\u001b[1;33m:\u001b[0m\u001b[1;33m\u001b[0m\u001b[1;33m\u001b[0m\u001b[0m\n",
      "\u001b[1;31mValueError\u001b[0m: arrays must all be same length"
     ]
    }
   ],
   "source": [
    "products = {'createdAt': [],'brand': [], 'productName': [], 'productVariant': [], 'category': [], 'generalCategory':[], 'price': [], 'discount': [], 'VAT': [], 'superCategory': []}\n",
    "\n",
    "for product in fileLoaded:\n",
    "    for variant in product['variants']:\n",
    "        products['createdAt'].append(product['createdAt'])\n",
    "        if type(product['brand']) is dict:\n",
    "            products['brand'].append(product['brand']['name'])\n",
    "        else:\n",
    "            products['brand'].append(\"\")\n",
    "        products['productName'].append(product['name'])\n",
    "        products['productVariant'].append(variant['name'])\n",
    "        products['category'].append(product['primaryCategory']['name'])\n",
    "        if type(product['primaryCategory']['parentCategory']) is dict:\n",
    "            products['generalCategory'].append(product['primaryCategory']['parentCategory']['name'])\n",
    "        else:\n",
    "            products['generalCategory'].append(\"\")\n",
    "        products['superCategory'].append(superCat(product['primaryCategory']))\n",
    "        products['price'].append(variant['storeSpecificData'][0]['mrp'])\n",
    "        products['discount'].append(variant['storeSpecificData'][0]['discount'])\n",
    "        if 0 in variant['storeSpecificData']:\n",
    "            products['VAT'].append(variant['storeSpecificData'][0]['tax'][0]['VAT'])    \n",
    "        else:\n",
    "            products['VAT'].append(\"\")\n",
    "\n",
    "pd.DataFrame.from_dict(products).to_excel(r'./tamimi.xlsx', index = False, header=True)\n",
    "\n"
   ]
  },
  {
   "cell_type": "code",
   "execution_count": null,
   "metadata": {},
   "outputs": [],
   "source": []
  }
 ],
 "metadata": {
  "language_info": {
   "codemirror_mode": {
    "name": "ipython",
    "version": 3
   },
   "file_extension": ".py",
   "mimetype": "text/x-python",
   "name": "python",
   "nbconvert_exporter": "python",
   "pygments_lexer": "ipython3",
   "version": "3.7.6-final"
  },
  "orig_nbformat": 2,
  "kernelspec": {
   "name": "python3",
   "display_name": "Python 3"
  }
 },
 "nbformat": 4,
 "nbformat_minor": 2
}